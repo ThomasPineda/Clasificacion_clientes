{
  "nbformat": 4,
  "nbformat_minor": 0,
  "metadata": {
    "colab": {
      "private_outputs": true,
      "provenance": [],
      "authorship_tag": "ABX9TyMh/wRlnJnvpWmh1YPQPOTZ",
      "include_colab_link": true
    },
    "kernelspec": {
      "name": "python3",
      "display_name": "Python 3"
    },
    "language_info": {
      "name": "python"
    }
  },
  "cells": [
    {
      "cell_type": "markdown",
      "metadata": {
        "id": "view-in-github",
        "colab_type": "text"
      },
      "source": [
        "<a href=\"https://colab.research.google.com/github/ThomasPineda/Clasificacion_clientes/blob/main/clasificaci%C3%B3n.ipynb\" target=\"_parent\"><img src=\"https://colab.research.google.com/assets/colab-badge.svg\" alt=\"Open In Colab\"/></a>"
      ]
    },
    {
      "cell_type": "code",
      "execution_count": null,
      "metadata": {
        "id": "xOMvMcXSVB8C"
      },
      "outputs": [],
      "source": [
        "from google.colab import drive\n",
        "drive.mount('/content/drive')"
      ]
    },
    {
      "cell_type": "code",
      "source": [
        "import pandas as pd\n",
        "import numpy as np\n",
        "import matplotlib.pyplot as plt\n",
        "import matplotlib.patches as mpatches\n",
        "import seaborn as sb\n",
        "from sklearn.cluster import KMeans\n",
        "from sklearn.metrics import pairwise_distances_argmin_min\n",
        "\n",
        "%matplotlib inline\n",
        "from mpl_toolkits.mplot3d import Axes3D\n",
        "plt.rcParams['figure.figsize'] = (16, 9)\n",
        "plt.style.use('ggplot')\n"
      ],
      "metadata": {
        "id": "V-Bl4FqGVj_B"
      },
      "execution_count": null,
      "outputs": []
    },
    {
      "cell_type": "code",
      "source": [
        "path = \"/content/drive/MyDrive/Colab Notebooks/Agrupación clientes Manpower/Client Data.xlsx\"\n",
        "df = md = pd. read_excel(path)\n",
        "df"
      ],
      "metadata": {
        "id": "X7Zm5RljVnMR"
      },
      "execution_count": null,
      "outputs": []
    },
    {
      "cell_type": "code",
      "source": [
        "df[\"Tipo Cliente\"].unique()"
      ],
      "metadata": {
        "id": "auzMj5DdAbKw"
      },
      "execution_count": null,
      "outputs": []
    },
    {
      "cell_type": "code",
      "source": [
        "df.describe()"
      ],
      "metadata": {
        "id": "PI9HAsd4AAy-"
      },
      "execution_count": null,
      "outputs": []
    },
    {
      "cell_type": "code",
      "source": [
        "print(df.groupby('Tipo Cliente').size())"
      ],
      "metadata": {
        "id": "NNHSYuJuBWts"
      },
      "execution_count": null,
      "outputs": []
    },
    {
      "cell_type": "code",
      "source": [
        "len(df)"
      ],
      "metadata": {
        "id": "HuBqcfRl6shT"
      },
      "execution_count": null,
      "outputs": []
    },
    {
      "cell_type": "code",
      "source": [
        "#green 1, blue 2, orange 3, yellow 4, red 0\n",
        "#peak 1 = green, peak 2 = blue, pp = orange, desierto = yellow, drenaje = red\n",
        "tipo =[]\n",
        "for i in range(len(df)):\n",
        "\n",
        "  if df[\"Tipo Cliente\"][i] == \"Peak N1\":\n",
        "    tipo.append(1)\n",
        "\n",
        "  elif df[\"Tipo Cliente\"][i] == \"Peak N2\":\n",
        "    tipo.append(2)\n",
        "\n",
        "  elif df[\"Tipo Cliente\"][i] == \"Potencial Peak\":\n",
        "    tipo.append(3)\n",
        "\n",
        "  elif df[\"Tipo Cliente\"][i] == \"Desierto\":\n",
        "    tipo.append(4)\n",
        "\n",
        "  else:\n",
        "    tipo.append(0)\n"
      ],
      "metadata": {
        "id": "_ua758lT6AbX"
      },
      "execution_count": null,
      "outputs": []
    },
    {
      "cell_type": "code",
      "source": [
        "colores=['red','green','blue','orange','yellow']\n",
        "asignar=[]\n",
        "for row in tipo:\n",
        "    asignar.append(colores[row])"
      ],
      "metadata": {
        "id": "ZRQ_tWezJ_AJ"
      },
      "execution_count": null,
      "outputs": []
    },
    {
      "cell_type": "code",
      "source": [
        "\n",
        "\n",
        "f1 = df['Total Ingresos cliente'].values\n",
        "f2 = df[\"% Contri\"].values\n",
        "\n",
        "\n",
        "plt.scatter(f1, f2, c=asignar, s=70)\n",
        "plt.title(\"Clasificación Clientes\")\n",
        "plt.xlabel(\"Total ingresos por cliente\")\n",
        "plt.ylabel(\"% Contribución\")\n",
        "\n",
        "rojo = mpatches.Patch(color = \"red\", label = \"Drenaje\")\n",
        "verde = mpatches.Patch(color = \"green\", label = \"Peak 1\")\n",
        "azul = mpatches.Patch(color = \"blue\", label = \"Peak 2\")\n",
        "amarillo = mpatches.Patch(color = \"yellow\", label = \"Desierto\")\n",
        "naranja = mpatches.Patch(color = \"orange\", label = \"Potencial Peak\")\n",
        "\n",
        "plt.legend(handles = [verde,azul,naranja,amarillo,rojo])"
      ],
      "metadata": {
        "id": "TD7PvHVF5kBk"
      },
      "execution_count": null,
      "outputs": []
    },
    {
      "cell_type": "code",
      "source": [],
      "metadata": {
        "id": "4TLcIZmC5fWl"
      },
      "execution_count": null,
      "outputs": []
    },
    {
      "cell_type": "code",
      "source": [
        "sb.pairplot(df.dropna(), hue='Tipo Cliente',size=4,vars=[\"Total Ingresos cliente\",\"Costo transacciones\",\"Contribución\"],kind='scatter')"
      ],
      "metadata": {
        "id": "B9gjG0IzAIFk"
      },
      "execution_count": null,
      "outputs": []
    },
    {
      "cell_type": "code",
      "source": [
        "\n",
        "X = np.array(df[[\"% Contri\",\"% Contri sin DSO\",\"Fee\",\"Total Ingresos cliente\",\"Costo transacciones\",\"Contribución\",\"Contribución sin DSO\"]])\n",
        "X"
      ],
      "metadata": {
        "id": "EECLrfKSBobd"
      },
      "execution_count": null,
      "outputs": []
    },
    {
      "cell_type": "markdown",
      "source": [
        "##K-MEANS"
      ],
      "metadata": {
        "id": "NvjqklyH3qzm"
      }
    },
    {
      "cell_type": "code",
      "source": [
        "\n",
        "Nc = range(1, 20)\n",
        "kmeans = [KMeans(n_clusters=i) for i in Nc]\n",
        "kmeans\n",
        "score = [kmeans[i].fit(X).score(X) for i in range(len(kmeans))]\n",
        "score\n",
        "plt.plot(Nc,score)\n",
        "plt.xlabel('Number of Clusters')\n",
        "plt.ylabel('Score')\n",
        "plt.title('Elbow Curve')\n",
        "plt.show()"
      ],
      "metadata": {
        "id": "KMooZlsHB7xi"
      },
      "execution_count": null,
      "outputs": []
    },
    {
      "cell_type": "code",
      "source": [
        "kmeans = KMeans(n_clusters=5).fit(X)\n",
        "centroids = kmeans.cluster_centers_\n",
        "print(centroids)"
      ],
      "metadata": {
        "id": "Nc74ha_sCd8I"
      },
      "execution_count": null,
      "outputs": []
    },
    {
      "cell_type": "code",
      "source": [
        "kmeans.predict(X)"
      ],
      "metadata": {
        "id": "2lAXuzCSCmPZ"
      },
      "execution_count": null,
      "outputs": []
    },
    {
      "cell_type": "code",
      "source": [
        "\n",
        "# Predicting the clusters\n",
        "labels = kmeans.predict(X)\n",
        "C = kmeans.cluster_centers_\n",
        "colores=['red','green','blue','orange','yellow']\n",
        "asignar=[]\n",
        "for row in labels:\n",
        "    asignar.append(colores[row])"
      ],
      "metadata": {
        "id": "7ukpPgsoC9iR"
      },
      "execution_count": null,
      "outputs": []
    },
    {
      "cell_type": "code",
      "source": [
        "colores=['red','green','blue','orange','yellow']\n",
        "asignar=[]\n",
        "for row in labels:\n",
        "    asignar.append(colores[row])"
      ],
      "metadata": {
        "id": "XR9lvPTaKGwy"
      },
      "execution_count": null,
      "outputs": []
    },
    {
      "cell_type": "code",
      "source": [
        "\n",
        "#Kmeans\n",
        "color = np.array(asignar)\n",
        "\n",
        "f1 = df['Total Ingresos cliente'].values\n",
        "f2 = df[\"% Contri\"].values\n",
        "\n",
        "\n",
        "plt.scatter(f1, f2, c=asignar, s=70)\n",
        "plt.title(\"Clasificación Clientes K-MEANS\")\n",
        "plt.ylabel(\" % Contribución\")\n",
        "plt.xlabel(\"Ingresos totales\")\n",
        "\n",
        "rojo = mpatches.Patch(color = \"red\", label = \"Drenaje\")\n",
        "verde = mpatches.Patch(color = \"green\", label = \"Peak 1\")\n",
        "azul = mpatches.Patch(color = \"blue\", label = \"Peak 2\")\n",
        "amarillo = mpatches.Patch(color = \"yellow\", label = \"Desierto\")\n",
        "naranja = mpatches.Patch(color = \"orange\", label = \"Potencial Peak\")\n",
        "\n",
        "plt.legend(handles = [verde,azul,naranja,amarillo,rojo])\n",
        "#plt.scatter(C[:, 0], C[:, 1], marker='*', c=colores, s=1000)\n",
        "plt.show()\n",
        "\n",
        "#peak 1 = green, peak 2 = blue, pp = orange, desierto = yellow, drenaje = red"
      ],
      "metadata": {
        "id": "PiMFH_aRC2mT"
      },
      "execution_count": null,
      "outputs": []
    },
    {
      "cell_type": "code",
      "source": [],
      "metadata": {
        "id": "D8B0UnRS-UUW"
      },
      "execution_count": null,
      "outputs": []
    },
    {
      "cell_type": "markdown",
      "source": [
        "##Agrupación jerárquica\n"
      ],
      "metadata": {
        "id": "i2oBqeHQ-VVc"
      }
    },
    {
      "cell_type": "code",
      "source": [
        "\n",
        "import numpy as np\n",
        "import pandas as pd\n",
        "from scipy import ndimage\n",
        "from scipy.cluster import hierarchy\n",
        "from scipy.spatial import distance_matrix\n",
        "from matplotlib import pyplot as plt\n",
        "from sklearn import manifold, datasets\n",
        "from sklearn.cluster import AgglomerativeClustering\n"
      ],
      "metadata": {
        "id": "J8be3Xli-bTH"
      },
      "execution_count": null,
      "outputs": []
    },
    {
      "cell_type": "code",
      "source": [
        "agglom = AgglomerativeClustering(n_clusters = 5, linkage = 'average')\n"
      ],
      "metadata": {
        "id": "o6k79COIA3v_"
      },
      "execution_count": null,
      "outputs": []
    },
    {
      "cell_type": "code",
      "source": [
        "agglom.fit(X)"
      ],
      "metadata": {
        "id": "4nvEFZ0ZBEtg"
      },
      "execution_count": null,
      "outputs": []
    },
    {
      "cell_type": "code",
      "source": [
        "labels_1 = agglom.labels_\n",
        "colores_1=['red','green','blue','orange','yellow']\n",
        "asignar_1=[]\n",
        "for row in labels_1:\n",
        "    asignar_1.append(colores_1[row])"
      ],
      "metadata": {
        "id": "ll2S0h9aEfvj"
      },
      "execution_count": null,
      "outputs": []
    },
    {
      "cell_type": "code",
      "source": [
        "asignar_1\n"
      ],
      "metadata": {
        "id": "e4oEPnASFZpM"
      },
      "execution_count": null,
      "outputs": []
    },
    {
      "cell_type": "code",
      "source": [
        "\n",
        "#Kmeans\n",
        "color_1 = np.array(asignar_1)\n",
        "\n",
        "f1 = df['Total Ingresos cliente'].values\n",
        "f2 = df[\"% Contri\"].values\n",
        "\n",
        "\n",
        "plt.scatter(f1, f2, c=asignar_1, s=70)\n",
        "plt.title(\"Clasificación Clientes Agrupación jerarquica\")\n",
        "plt.ylabel(\"% Contribución\")\n",
        "plt.xlabel(\"Ingresos totales\")\n",
        "\n",
        "\"\"\"rojo = mpatches.Patch(color = \"red\", label = \"Drenaje\")\n",
        "verde = mpatches.Patch(color = \"green\", label = \"Peak 1\")\n",
        "azul = mpatches.Patch(color = \"blue\", label = \"Peak 2\")\n",
        "amarillo = mpatches.Patch(color = \"yellow\", label = \"Desierto\")\n",
        "naranja = mpatches.Patch(color = \"orange\", label = \"Potencial Peak\")\n",
        "\n",
        "plt.legend(handles = [verde,azul,naranja,amarillo,rojo])\"\"\"\n",
        "plt.show()"
      ],
      "metadata": {
        "id": "kUh-k3vzE3gv"
      },
      "execution_count": null,
      "outputs": []
    }
  ]
}